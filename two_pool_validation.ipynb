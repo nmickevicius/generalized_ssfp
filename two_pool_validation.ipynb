{
 "cells": [
  {
   "cell_type": "markdown",
   "metadata": {},
   "source": [
    "# SSFP Two-Pool Steady State (Updated $R_x$, $R_z$)\n",
    "\n",
    "This notebook derives the steady-state readout for a two-pool (exchange) SSFP model using **updated rotation conventions**.\n",
    "\n",
    "**Outline**\n",
    "1. State the model and updated rotations.\n",
    "2. Build $\\mathbf{P} = \\mathbf{A}\\mathbf{E} R_z R_x$ and $\\mathbf{Y} = \\mathbf{A}\\mathbf{B}$ using sparsity.\n",
    "3. Solve $(\\mathbf{I}-\\mathbf{P})\\,\\mathbf{m}^- = \\mathbf{Y}$ via two $2\\times2$ solves.\n",
    "4. Form the complex readout $m^+$ with the updated $R_x$.\n",
    "5. Present the target SSFP form and $\\beta$-factorization; (optional) numeric sanity checks.\n"
   ]
  },
  {
   "cell_type": "markdown",
   "metadata": {},
   "source": [
    "## Updated rotations\n",
    "\n",
    "We use the following updated rotation matrices:\n",
    "\n",
    "$$R_x(\\alpha) = \\begin{bmatrix}\n",
    "1 & 0 & 0 & 0\\\\\n",
    "0 & \\cos\\alpha & \\sin\\alpha & 0\\\\\n",
    "0 & -\\sin\\alpha & \\cos\\alpha & 0\\\\\n",
    "0 & 0 & 0 & f_w\n",
    "\\end{bmatrix}$$\n",
    "\n",
    "$$R_z(\\varphi) = \\begin{bmatrix}\n",
    "\\cos\\varphi & \\sin\\varphi & 0 & 0 \\\\\n",
    "-\\sin\\varphi & \\cos\\varphi & 0 & 0 \\\\\n",
    "0 & 0 & 1 & 0 \\\\\n",
    "0 & 0 & 0 & 1 \n",
    "\\end{bmatrix}$$\n"
   ]
  },
  {
   "cell_type": "markdown",
   "metadata": {},
   "source": [
    "## $\\beta$-parameters and target form\n",
    "\n",
    "We factor the final expressions using:\n",
    "\n",
    "$$\\beta_1 = 1 + F - f_w E_{1,r} (F + f_k)$$\n",
    "$$\\beta_2 = 1 + f_k \\left( F - f_w E_{1,r}(F+1)\\right)$$\n",
    "$$\\beta_3 = E_{2}\\left(\\beta_2 E_{1,f} -  \\beta_1 \\right) \\left( 1 + \\cos \\alpha \\right)$$\n",
    "$$\\beta_4 =  \\beta_1  - \\beta_2 E_{1,f} \\cos \\alpha - \\left(\\beta_2 E_{1,f} -  \\beta_1  \\cos \\alpha\\right)E_{2}^2$$\n",
    "$$\\beta_5 = M_{0,f} \\beta_2 \\left(1 - E_{1,f}\\right) + M_{0,r}\\left(1 - E_{1,r}\\right)\\left(1 - f_k\\right)$$\n",
    "\n",
    "The target SSFP form is\n",
    "\n",
    "$$m^+ = A\\,\\frac{1 - E_2 e^{i\\varphi}}{B\\cos\\varphi + C}, \\quad \\text{with } A\\propto\\beta_5,\\; B\\propto\\beta_3,\\; C\\propto\\beta_4.$$\n"
   ]
  },
  {
   "cell_type": "code",
   "execution_count": null,
   "metadata": {},
   "outputs": [],
   "source": [
    "# Imports and symbols\n",
    "import sympy as sp\n",
    "E2, E1f, E1r, fw = sp.symbols('E2 E1f E1r fw', real=True)\n",
    "F, fk            = sp.symbols('F fk', real=True)\n",
    "ca, sa           = sp.symbols('ca sa', real=True)      # cos(alpha), sin(alpha)\n",
    "cphi, sphi       = sp.symbols('cphi sphi', real=True)  # cos(phi), sin(phi)\n",
    "M0f, M0r         = sp.symbols('M0f M0r', real=True)\n",
    "\n",
    "# a,b,c,d in terms of F,fk (kept symbolic for structure)\n",
    "a = (1 + F*fk)/(F + 1)\n",
    "b = (1 - fk)/(F + 1)\n",
    "c = (F*(1 - fk))/(F + 1)\n",
    "d = (F + fk)/(F + 1)\n",
    "\n",
    "a, b, c, d"
   ]
  },
  {
   "cell_type": "markdown",
   "metadata": {},
   "source": [
    "## Build $\\mathbf{P} = \\mathbf{A}\\mathbf{E} R_z R_x$ and $\\mathbf{Y}=\\mathbf{A}\\mathbf{B}$\n",
    "\n",
    "<!-- \\(\\require{color}\\) -->\n",
    "Let $c_\\alpha=\\cos\\alpha$, $s_\\alpha=\\sin\\alpha$, $c_\\varphi=\\cos\\varphi$, $s_\\varphi=\\sin\\varphi$. With the substitutions $a$, $b$, $c$, and $d$ above, the matrix product $\\mathbf{P} = \\mathbf{A}\\mathbf{E} R_z R_x$ is given by \n",
    "$$\\mathbf{P} = \\mathbf{A}\\mathbf{E}R_z R_x =\n",
    "\\begin{bmatrix}\n",
    "\\color{#1f77b4}{E_2 c_\\varphi} & \\color{#1f77b4}{E_2 c_\\alpha s_\\varphi} & \\color{#9467bd}{E_2 s_\\alpha s_\\varphi} & \\color{#888888}{0} \\\\\n",
    "\\color{#1f77b4}{-E_2 s_\\varphi} & \\color{#1f77b4}{E_2 c_\\alpha c_\\varphi} & \\color{#9467bd}{E_2 s_\\alpha c_\\varphi} & \\color{#888888}{0} \\\\\n",
    "\\color{#888888}{0} & \\color{#ff7f0e}{-a E_{1,f} s_\\alpha} & \\color{#2ca02c}{a E_{1,f} c_\\alpha} & \\color{#2ca02c}{b E_{1,r} f_w} \\\\\n",
    "\\color{#888888}{0} & \\color{#ff7f0e}{-c E_{1,f} s_\\alpha} & \\color{#2ca02c}{c E_{1,f} c_\\alpha} & \\color{#2ca02c}{d E_{1,r} f_w}\n",
    "\\end{bmatrix}. $$\n",
    "\n",
    "\n",
    "\n",
    "Define the transverse $2\\times2$ block and the $m_{z,f}\\to (m_x,m_y)$ drive:\n",
    "\n",
    "$$\\mathbf{M}_x = \\begin{bmatrix} E_2 c_\\varphi & E_2 c_\\alpha s_\\varphi \\\\ -E_2 s_\\varphi & E_2 c_\\alpha c_\\varphi\\end{bmatrix},\\quad\n",
    "\\mathbf{A}_{13} = \\begin{bmatrix} E_2 s_\\alpha s_\\varphi \\\\ E_2 s_\\alpha c_\\varphi \\end{bmatrix}.$$\n",
    "\n",
    "The longitudinal block (after including $\\mathbf{A}$ and $\\mathbf{E}$) is parameter-only:\n",
    "\n",
    "$$\\begin{aligned}\n",
    "(\\mathbf{I}-\\mathbf{P})_{\\text{long}} &= \\begin{bmatrix}\n",
    "1 - a E_{1,f} c_\\alpha & - b E_{1,r} f_w \\\\\n",
    "- c E_{1,f} c_\\alpha & 1 - d E_{1,r} f_w\n",
    "\\end{bmatrix},\\\\[4pt]\n",
    "\\mathbf{Y} &= \\begin{bmatrix} 0 \\\\ 0 \\\\ a M_{0,f}(1-E_{1,f}) + b M_{0,r}(1-E_{1,r}) \\\\ c M_{0,f}(1-E_{1,f}) + d M_{0,r}(1-E_{1,r})\\end{bmatrix}.\n",
    "\\end{aligned}$$\n",
    "\n",
    "**Full matrix $\\mathbf{P}$ (color-coded):**\n",
    "\n",
    "- \\(\\color{#1f77b4}{\\text{blue}}\\): transverse block $\\mathbf{M}_x$ (top-left $2\\times2$)\n",
    "- \\(\\color{#9467bd}{\\text{purple}}\\): coupling column $\\mathbf{A}_{13}$ into $(m_x,m_y)$ from $m_{z,f}$\n",
    "- \\(\\color{#ff7f0e}{\\text{orange}}\\): longitudinal coupling from $m_y$ into $m_{z,\\cdot}$\n",
    "- \\(\\color{#2ca02c}{\\text{green}}\\): longitudinal $(z_f,z_r)$ propagation (exchange/relaxation)\n",
    "- \\(\\color{#888888}{\\text{gray}}\\): structural zeros\n",
    "\n",
    "\n"
   ]
  },
  {
   "cell_type": "code",
   "execution_count": null,
   "metadata": {},
   "outputs": [],
   "source": [
    "# Transverse 2x2 block and the coupling column\n",
    "Mx  = sp.Matrix([[E2*cphi,      E2*ca*sphi],\n",
    "                 [-E2*sphi,     E2*ca*cphi]])\n",
    "A13 = sp.Matrix([E2*sa*sphi,  E2*sa*cphi])\n",
    "\n",
    "# Longitudinal (I - P)_long and Y = A B\n",
    "A_low = sp.Matrix([[1 - a*E1f*ca,   -b*E1r*fw],\n",
    "                   [-c*E1f*ca,      1 - d*E1r*fw]])\n",
    "y3 = a*M0f*(1 - E1f) + b*M0r*(1 - E1r)\n",
    "y4 = c*M0f*(1 - E1f) + d*M0r*(1 - E1r)\n",
    "A_low, y3, y4"
   ]
  },
  {
   "cell_type": "markdown",
   "metadata": {},
   "source": [
    "## Blockwise solution\n",
    "\n",
    "\\(\\require{color}\\)\n",
    "We solve the transverse subsystem first, then the longitudinal one, and finally back-substitute:\n",
    "\n",
    "- Transverse (blue/purple):\n",
    "\n",
    "$$(\\mathbf{I}_2 - \\color{#1f77b4}{\\mathbf{M}_x})\\begin{bmatrix}m_x\\\\ m_y\\end{bmatrix}\n",
    " = \\color{#9467bd}{\\mathbf{A}_{13}}\\, m_{z,f}.$$\n",
    "\n",
    "- Longitudinal (orange/green): move the $m_y$ coupling to the left so the right-hand side is just $\\mathbf{Y}$.\n"
   ]
  },
  {
   "cell_type": "code",
   "execution_count": null,
   "metadata": {},
   "outputs": [],
   "source": [
    "# Transverse solve gives [mx; my] = U * mzf\n",
    "I2 = sp.eye(2)\n",
    "mzf_sym = sp.Symbol('mzf')\n",
    "u_sol = (I2 - Mx).LUsolve(A13 * mzf_sym)\n",
    "mx_lin, my_lin = u_sol[0], u_sol[1]\n",
    "\n",
    "# Extract linear coefficients U (to avoid carrying a temporary symbol)\n",
    "mx_coef = sp.together(mx_lin / mzf_sym)\n",
    "my_coef = sp.together(my_lin / mzf_sym)\n",
    "mx_coef, my_coef"
   ]
  },
  {
   "cell_type": "markdown",
   "metadata": {},
   "source": [
    "### Longitudinal system with $m_y$ moved left\n",
    "\n",
    "\\(\\require{color}\\)\n",
    "Using $m_y = \\text{my\\_coef}\\,m_{z,f}$, the longitudinal system becomes\n",
    "\n",
    "$$\\underbrace{\\begin{bmatrix}\n",
    "\\color{#2ca02c}{1 - aE_{1,f}c_\\alpha} \\; + \\; \\color{#ff7f0e}{aE_{1,f}s_\\alpha\\,\\text{my\\_coef}} & \\color{#2ca02c}{- bE_{1,r} f_w}\\\\\n",
    "\\color{#2ca02c}{-cE_{1,f}c_\\alpha} \\; + \\; \\color{#ff7f0e}{cE_{1,f}s_\\alpha\\,\\text{my\\_coef}} & \\color{#2ca02c}{1 - dE_{1,r} f_w}\n",
    "\\end{bmatrix}}_{\\mathbf{A}_{\\text{long}}}\n",
    "\\begin{bmatrix} m_{z,f}\\\\ m_{z,r}\\end{bmatrix} \n",
    "= \\begin{bmatrix} y_3\\\\ y_4\\end{bmatrix}.$$\n",
    "\n",
    "Here, **orange** terms are the longitudinal coupling induced by $m_y$ (via $s_\\alpha$), and **green** terms are the exchange/relaxation propagation.\n"
   ]
  },
  {
   "cell_type": "code",
   "execution_count": null,
   "metadata": {},
   "outputs": [],
   "source": [
    "# Build and solve the corrected longitudinal system\n",
    "A_long = sp.Matrix([[1 - a*E1f*ca + a*E1f*sa*my_coef,   -b*E1r*fw],\n",
    "                    [-c*E1f*ca + c*E1f*sa*my_coef,       1 - d*E1r*fw]])\n",
    "rhs_long = sp.Matrix([y3, y4])\n",
    "mzf_expr, mzr_expr = A_long.LUsolve(rhs_long)\n",
    "\n",
    "# Back-substitute for mx,my\n",
    "mx_ss = sp.together(mx_coef * mzf_expr)\n",
    "my_ss = sp.together(my_coef * mzf_expr)\n",
    "mzf_expr, mx_ss, my_ss"
   ]
  },
  {
   "cell_type": "markdown",
   "metadata": {},
   "source": [
    "## Readout $m^+$ (updated $R_x$)\n",
    "\n",
    "With $x^+=m_x$, $y^+=\\cos\\alpha\\,m_y + \\sin\\alpha\\,m_{z,f}$, we form\n",
    "\n",
    "$$m^+ = m_x + i\\,(\\cos\\alpha\\,m_y + \\sin\\alpha\\,m_{z,f}).$$\n"
   ]
  },
  {
   "cell_type": "code",
   "execution_count": null,
   "metadata": {},
   "outputs": [],
   "source": [
    "# Complex readout\n",
    "mplus = sp.together(mx_ss + sp.I*(ca*my_ss + sa*mzf_expr))\n",
    "mplus"
   ]
  },
  {
   "cell_type": "markdown",
   "metadata": {},
   "source": [
    "## $\\beta$-parameters and target SSFP form\n",
    "\n",
    "We define the $\\beta$-parameters and target the form\n",
    "\n",
    "$$m^+ = A\\,\\frac{1 - E_2 e^{i\\varphi}}{B\\cos\\varphi + C},\\quad \\text{with } A\\propto\\beta_5,\\; B\\propto\\beta_3,\\; C\\propto\\beta_4.$$\n"
   ]
  },
  {
   "cell_type": "code",
   "execution_count": null,
   "metadata": {},
   "outputs": [],
   "source": [
    "# β-blocks in (F,fk) form\n",
    "beta1 = 1 + F - fw*E1r*(F + fk)\n",
    "beta2 = 1 + fk*(F - fw*E1r*(F + 1))\n",
    "beta3 = E2*((beta2*E1f - beta1))*(1 + ca)\n",
    "beta4 = beta1 - beta2*E1f*ca - (beta2*E1f - beta1*ca)*E2**2\n",
    "beta5 = M0f*beta2*(1 - E1f) + M0r*(1 - E1r)*(1 - fk)\n",
    "beta1, beta2, beta3, beta4, beta5"
   ]
  },
  {
   "cell_type": "markdown",
   "metadata": {},
   "source": [
    "## Optional: numeric sanity checks\n",
    "\n",
    "We can test the identity (up to a global readout phase)\n",
    "\n",
    "$$m^+ \\stackrel{?}{=} (\\beta_5\\,\\sin\\alpha)\\,\\frac{1 - E_2 e^{i\\varphi}}{\\beta_3\\cos\\varphi + \\beta_4}$$\n",
    "\n",
    "across random parameter draws."
   ]
  },
  {
   "cell_type": "code",
   "execution_count": null,
   "metadata": {},
   "outputs": [],
   "source": [
    "import mpmath as mp, random, math\n",
    "\n",
    "vars_list = (E2,E1f,E1r,fw,F,fk,ca,sa,cphi,sphi,M0f,M0r)\n",
    "mplus_fun = sp.lambdify(vars_list, mplus, 'mpmath')\n",
    "beta3_fun = sp.lambdify((E2,E1f,E1r,fw,F,fk,ca), beta3, 'mpmath')\n",
    "beta4_fun = sp.lambdify((E1r,fw,F,fk,E1f,E2,ca), beta4, 'mpmath')\n",
    "beta5_fun = sp.lambdify((M0f,M0r,E1f,E1r,F,fk,fw), beta5, 'mpmath')\n",
    "\n",
    "def rand_params():\n",
    "    E2v  = random.uniform(0.3, 0.95)\n",
    "    E1fv = random.uniform(0.7, 0.99)\n",
    "    E1rv = random.uniform(0.7, 0.99)\n",
    "    fwv  = random.uniform(0.8, 1.0)\n",
    "    Fv   = random.uniform(0.2, 5.0)\n",
    "    fkv  = random.uniform(0.0, 0.95)\n",
    "    alpha = random.uniform(0.05, 1.45)\n",
    "    phi   = random.uniform(-2.8, 2.8)\n",
    "    ca_v, sa_v     = math.cos(alpha), math.sin(alpha)\n",
    "    cphi_v, sphi_v = math.cos(phi), math.sin(phi)\n",
    "    M0fv = random.uniform(0.8, 1.2)\n",
    "    M0rv = random.uniform(0.8, 1.2)\n",
    "    return dict(E2=E2v, E1f=E1fv, E1r=E1rv, fw=fwv, F=Fv, fk=fkv,\n",
    "                ca=ca_v, sa=sa_v, cphi=cphi_v, sphi=sphi_v, M0f=M0fv, M0r=M0rv)\n",
    "\n",
    "def trial():\n",
    "    s = rand_params()\n",
    "    mval = mplus_fun(s['E2'],s['E1f'],s['E1r'],s['fw'],s['F'],s['fk'],\n",
    "                     s['ca'],s['sa'],s['cphi'],s['sphi'],s['M0f'],s['M0r'])\n",
    "    B = beta3_fun(s['E2'],s['E1f'],s['E1r'],s['fw'],s['F'],s['fk'],s['ca'])\n",
    "    C = beta4_fun(s['E1r'],s['fw'],s['F'],s['fk'],s['E1f'],s['E2'],s['ca'])\n",
    "    A_sin = beta5_fun(s['M0f'],s['M0r'],s['E1f'],s['E1r'],s['F'],s['fk'],s['fw']) * s['sa']\n",
    "    num = 1 - s['E2']*(s['cphi'] + 1j*s['sphi'])\n",
    "    den = B*s['cphi'] + C\n",
    "    if abs(num) < 1e-9 or abs(den) < 1e-9 or abs(A_sin) < 1e-12:\n",
    "        return None\n",
    "    A_est = mval * den / num\n",
    "    ratio  = A_est / A_sin\n",
    "    ratioi = A_est / (1j * A_sin)\n",
    "    return (float(abs(abs(ratio)-1)), float(mp.arg(ratio)),\n",
    "            float(abs(abs(ratioi)-1)), float(mp.arg(ratioi)))\n",
    "\n",
    "trials = [trial() for _ in range(5)]\n",
    "trials"
   ]
  }
 ],
 "metadata": {
  "kernelspec": {
   "display_name": "Python 3",
   "language": "python",
   "name": "python3"
  },
  "language_info": {
   "name": "python",
   "version": "3.11"
  }
 },
 "nbformat": 4,
 "nbformat_minor": 5
}
